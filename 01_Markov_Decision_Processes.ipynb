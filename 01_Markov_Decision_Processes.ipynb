{
 "cells": [
  {
   "cell_type": "markdown",
   "id": "1d48b308",
   "metadata": {},
   "source": [
    "# **✨Markov Decision Processes(MDPs)**"
   ]
  },
  {
   "cell_type": "markdown",
   "id": "638ecb7c",
   "metadata": {},
   "source": [
    "## **📑Table of Contents**\n",
    "\n",
    "1. [Introduction to Markov Decision Processes (MDPs)](#1-introduction-to-markov-decision-processes-mdps)\n",
    "   - 1.1 [Core Concept](#11-core-concept)\n",
    "   - 1.2 [Mathematical Foundation of MDPs](#12-mathematical-foundation-of-mdps)\n",
    "     - 1.2.1 [Why MDPs Matter](#121-why-mdps-matter)\n",
    "     - 1.2.2 [Mathematical Formulation](#122-mathematical-formulation)\n",
    "     - 1.2.3 [Complex Environment Modeling](#123-complex-environment-modeling)\n",
    "\n",
    "2. [Core Components of MDPs](#2-core-components-of-mdps)\n",
    "   - 2.1 [Core Components](#21-core-components)\n",
    "     - 2.1.1 [States (S)](#211-states-s)\n",
    "     - 2.1.2 [Actions (A)](#212-actions-a)\n",
    "     - 2.1.3 [Rewards (R)](#213-rewards-r)\n",
    "     - 2.1.4 [Transition Probabilities (P)](#214-transition-probabilities-p)\n",
    "     - 2.1.5 [Discount Factor (γ)](#215-discount-factor-γ)\n",
    "\n",
    "3. [The Markov Property](#3-the-markov-property)\n",
    "\n",
    "4. [Frozen Lake Environment as MDP](#4-frozen-lake-environment-as-mdp)\n",
    "   - 4.1 [The Solution to the MDP](#41-the-solution-to-the-mdp)\n",
    "   - 4.2 [Frozen Lake Implementation](#42-frozen-lake-implementation)\n",
    "\n",
    "5. [CliffWalking Environment](#5-cliffwalking-environment)\n"
   ]
  },
  {
   "cell_type": "markdown",
   "id": "cf88eecb",
   "metadata": {},
   "source": [
    "## **🔖1. Introduction to Markov Decision Processes (MDPs)**"
   ]
  },
  {
   "cell_type": "markdown",
   "id": "fbe363b2",
   "metadata": {},
   "source": [
    "### 1.1 **Core Concept**"
   ]
  },
  {
   "cell_type": "markdown",
   "id": "636b978f",
   "metadata": {},
   "source": [
    "> \"**MDP: Models RL environments mathematically**\""
   ]
  },
  {
   "cell_type": "markdown",
   "id": "94f73f81",
   "metadata": {},
   "source": [
    "### 1.2 **Mathematical Foundation of MDPs**"
   ]
  },
  {
   "cell_type": "markdown",
   "id": "1c87734e",
   "metadata": {},
   "source": [
    "**Definition:** \n",
    "- A Markov Decision Process (MDP) is a mathematical framework used to model decision-making in environments where outcomes are partly random and partly under the control of a decision-maker (agent). \n",
    "- It's foundational in reinforcement learning and dynamic programming."
   ]
  },
  {
   "cell_type": "markdown",
   "id": "52138171",
   "metadata": {},
   "source": [
    "#### 1.2.1 Why MDPs Matter"
   ]
  },
  {
   "cell_type": "markdown",
   "id": "2982841e",
   "metadata": {},
   "source": [
    "- **Universal Framework**: MDPs serve as the theoretical foundation for virtually all reinforcement learning algorithms\n",
    "- **Mathematical Rigor**: They provide precise mathematical definitions for `states`, `actions`, and `rewards`\n",
    "- **Optimization Target**: MDPs enable the formulation of optimal policies through well-defined mathematical principles"
   ]
  },
  {
   "cell_type": "markdown",
   "id": "18d6b939",
   "metadata": {},
   "source": [
    "#### 1.2.2 Mathematical Formulation"
   ]
  },
  {
   "cell_type": "markdown",
   "id": "65237cf1",
   "metadata": {},
   "source": [
    "An MDP is formally defined by a tuple: $(S, A, P, R, \\gamma)$\n",
    "\n",
    "Where:\n",
    "- $S$(`State Space`) $\\rightarrow$ A finite or infinite set of states representing the environment.\n",
    "- $A$(`Action Space`) $\\rightarrow$ A set of actions available to the agent in each state.\n",
    "- $P$(`Transition Probablity`) $\\rightarrow$ A probability function $P(s'|s,a)$ that defines the likelihood of transitioning from state $s$ to $s'$ after taking action $a$.\n",
    "- $R$(`Reward Function`) $\\rightarrow$ A function $R(s,a,s')$ that assigns a reward for moving from state $s$ to $s'$ via action $a$.\n",
    "- $\\gamma$(`Discount Factor`) (0 ≤ γ ≤ 1) $\\rightarrow$ A value in the range [0,1] that determines the importance of future rewards."
   ]
  },
  {
   "cell_type": "markdown",
   "id": "7be434b5",
   "metadata": {},
   "source": [
    "#### 1.2.3 Complex Environment Modeling"
   ]
  },
  {
   "cell_type": "markdown",
   "id": "4f3046ac",
   "metadata": {},
   "source": [
    "MDPs excel at modeling complex environments because they:\n",
    "\n",
    "- **Capture Uncertainty**: Through probabilistic state transitions\n",
    "    - Real environments rarely have deterministic outcomes\n",
    "    - Actions may lead to unintended results due to noise, physics, or external factors\n",
    "\n",
    "- **Handle Sequential Decisions**: Through multi-step planning horizons\n",
    "    - Decisions affect not just immediate rewards but future opportunities\n",
    "    - Long-term consequences must be balanced against short-term gains\n",
    "\n",
    "- **Enable Optimization**: Through value-based solution methods\n",
    "    - Mathematical optimization techniques can find provably optimal policies\n",
    "    - Algorithms like dynamic programming guarantee convergence to optimal solutions\n",
    "\n",
    "***"
   ]
  },
  {
   "cell_type": "markdown",
   "id": "182452be",
   "metadata": {},
   "source": [
    "## **🔖2. Core Components of MDPs**"
   ]
  },
  {
   "cell_type": "markdown",
   "id": "f456b34f",
   "metadata": {},
   "source": [
    "### 2.1 **Core Components:**"
   ]
  },
  {
   "cell_type": "markdown",
   "id": "99472020",
   "metadata": {},
   "source": [
    "#### 2.1.1 **States (S)**"
   ]
  },
  {
   "cell_type": "markdown",
   "id": "f8b3d492",
   "metadata": {},
   "source": [
    "- **Definition**: States represent all the information necessary to make optimal decisions at any point in time.\n",
    "  \n",
    "- ***Technical Details:***\n",
    "    - **State Space**: The complete set $S = \\{s_1, s_2, ..., s_n\\}$ of all possible states\n",
    "    - **Current State**: Denoted as $s_t$ at time step $t$\n",
    "    - **State Representation**: Must capture all relevant environmental information\n",
    "  \n",
    "- ***State Design Principles:***\n",
    "    - **Completeness**: States must include all information relevant to decision-making\n",
    "    - Missing information leads to suboptimal policies\n",
    "    - Over-inclusion increases computational complexity unnecessarily\n",
    "\n",
    "- **Markov Property Compliance**: \n",
    "    - Current state must fully determine future possibilities\n",
    "    - Past history should be irrelevant given current state\n",
    "    - This enables efficient dynamic programming solutions"
   ]
  },
  {
   "cell_type": "markdown",
   "id": "18714d58",
   "metadata": {},
   "source": [
    "#### 2.1.2 **Actions (A)**"
   ]
  },
  {
   "cell_type": "markdown",
   "id": "99ec0b47",
   "metadata": {},
   "source": [
    "- **Definition**: Actions represent the set of choices available to the agent in each state.\n",
    "  \n",
    "- ***Technical Details:***\n",
    "    - **Action Space**: $A(s)$ represents actions available in state $s$\n",
    "    - **Action Selection**: Denoted as $a_t$ at time step $t$\n",
    "    - **Action Constraints**: Some actions may be state-dependent\n",
    "  \n",
    "- ***Action Space Types:***\n",
    "    - **Discrete Actions**: Finite set of distinct choices\n",
    "        - Examples: {Move Left, Move Right, Move Up, Move Down}\n",
    "        - Easier to analyze mathematically\n",
    "        - Common in grid worlds and board games\n",
    "    \n",
    "    - **Continuous Actions**: Infinite set within bounded ranges\n",
    "        - Examples: Steering angle, throttle position, joint torques\n",
    "        - Requires specialized algorithms (policy gradients, actor-critic)\n",
    "        - Common in robotics and control systems"
   ]
  },
  {
   "cell_type": "markdown",
   "id": "e7b26575",
   "metadata": {},
   "source": [
    "#### 2.1.3 **Rewards (R)**"
   ]
  },
  {
   "cell_type": "markdown",
   "id": "772c7d55",
   "metadata": {},
   "source": [
    "- **Definition**: Rewards provide the optimization signal that guides the agent toward desired behaviors.\n",
    "\n",
    "- ***Mathematical Formulation:***\n",
    "    - **Reward Function**:  $R(s, a)$\n",
    "    - **Immediate Reward**: $r_t$ received at time step $t$\n",
    "    - **Cumulative Return**: $G_t = \\sum_{k=0}^{\\infty} \\gamma^k r_{t+k+1}$\n",
    "      - Where:\n",
    "          - $r_t$ = Immediate reward at time $t$\n",
    "          - $\\gamma$ = Discount factor\n",
    "          - $G_t$ = Total discounted return from time $t$\n",
    "\n",
    "- ***Reward Design Strategies:***\n",
    "    - **Sparse Rewards**: Rewards only at goal achievement\n",
    "        - Pro: Clearly defined objectives\n",
    "        - Con: Difficult learning due to credit assignment problem\n",
    "    - **Dense Rewards**: Frequent intermediate rewards\n",
    "        - Pro: Faster learning through immediate feedback\n",
    "        - Con: Risk of reward hacking and unintended behaviors\n",
    "    - **Shaped Rewards**: Carefully designed intermediate rewards\n",
    "        - Guides agent toward goal while maintaining true objective\n",
    "        - Requires domain expertise to design effectively"
   ]
  },
  {
   "cell_type": "markdown",
   "id": "1be3977c",
   "metadata": {},
   "source": [
    "#### 2.1.4 **Transition Probabilities (P)**"
   ]
  },
  {
   "cell_type": "markdown",
   "id": "1503614a",
   "metadata": {},
   "source": [
    "- **Definition**: Transition probabilities define the stochastic dynamics of the environment.\n",
    "  \n",
    "- #### Mathematical Formulation:\n",
    "  - $P(s_{t+1} = s' | s_t = s, a_t = a) = P_{ss'}^a$\n",
    "    - Where:\n",
    "        - $P_{ss'}^a$ = Probability of transitioning from state $s$ to state $s'$ under action $a$\n",
    "        - $\\sum_{s'} P_{ss'}^a = 1$ for all $s, a$ (probability distribution property)\n",
    "  \n",
    "- #### Deterministic vs Stochastic Environments:\n",
    "  - **Deterministic**: $P_{ss'}^a \\in \\{0, 1\\}$\n",
    "    - Outcomes are completely predictable\n",
    "    - Simpler to analyze and solve\n",
    "    - Examples: Chess (ignoring time constraints), perfect mazes\n",
    "  \n",
    "  - **Stochastic**: $0 < P_{ss'}^a < 1$ for multiple $s'$\n",
    "    - Outcomes involve uncertainty\n",
    "    - More realistic for real-world problems\n",
    "    - Requires handling of multiple possible outcomes"
   ]
  },
  {
   "cell_type": "markdown",
   "id": "48577e1a",
   "metadata": {},
   "source": [
    "#### 2.1.5 **Discount Factor (γ)**"
   ]
  },
  {
   "cell_type": "markdown",
   "id": "f57be9b6",
   "metadata": {},
   "source": [
    "- **Definition**: The discount factor γ determines the relative importance of immediate versus future rewards in decision-making.\n",
    "\n",
    "- ***Technical Details:***\n",
    "  - **Mathematical Range**: γ ∈  where γ = 0 means only immediate rewards matter, γ = 1 values all future rewards equally[1]\n",
    "  - **Temporal Weighting**: Controls exponential decay of future reward importance\n",
    "  - **Present Value**: Converts future rewards into present value equivalents\n",
    "\n",
    "- ***Mathematical Formulation:***\n",
    "  - **Discounted Return**: $G_t = R_{t+1} + \\gamma R_{t+2} + \\gamma^2 R_{t+3} + ... = \\sum_{k=0}^{\\infty} \\gamma^k R_{t+k+1}$\n",
    "  - **Bellman Equation**: $V^{\\pi}(s) = \\mathbb{E}[R_{t+1} + \\gamma V^{\\pi}(S_{t+1}) | S_t = s]$\n",
    "  - **Convergence Guarantee**: When γ < 1, infinite sums converge to finite values\n",
    "\n",
    "- ***Discount Factor Effects:***\n",
    "  - **γ = 0 (Myopic Agent)**: Only immediate rewards considered\n",
    "    - Pro: Fast decision-making, no complex planning required\n",
    "    - Con: Ignores long-term consequences, suboptimal in sequential tasks\n",
    "    - Example: Choosing immediate small reward over delayed large reward\n",
    "  \n",
    "  - **γ = 1 (Farsighted Agent)**: All future rewards weighted equally\n",
    "    - Pro: Optimal long-term planning, considers all consequences\n",
    "    - Con: May struggle in infinite horizon problems, computational challenges\n",
    "    - Example: Sacrificing immediate rewards for much larger future gains\n",
    "  \n",
    "  - **0 < γ < 1 (Balanced Agent)**: Exponentially decreasing future importance\n",
    "    - Balances immediate and future rewards optimally\n",
    "    - Most common in practical applications\n",
    "    - Ensures mathematical convergence and tractable solutions\n",
    "\n",
    "- ***Practical Applications:***\n",
    "  - **Financial Planning**: γ = 0.95-0.99 (high value on future wealth)\n",
    "  - **Robotics Control**: γ = 0.9-0.95 (balance responsiveness with planning)\n",
    "  - **Game Playing**: γ = 0.99 (long-term strategic thinking)\n",
    "  - **Real-time Systems**: γ = 0.5-0.8 (prioritize immediate responses)"
   ]
  },
  {
   "cell_type": "markdown",
   "id": "042b4697",
   "metadata": {},
   "source": [
    "## **🔖3. The Markov Property**"
   ]
  },
  {
   "cell_type": "markdown",
   "id": "6425ddb9",
   "metadata": {},
   "source": [
    "> \"**Markov property: Future state depends only on current state and action**\"\n",
    "\n",
    "**Definition:** The Markov Property states that the future state depends only on the `current state` and `action`, **NOT** on the entire history of past states and actions.\n",
    "\n",
    "- **Mathematical Expression:**\n",
    "$$P(S_{t+1} = s' | S_t = s, A_t = a, S_{t-1}, A_{t-1}, ..., S_0, A_0) = P(S_{t+1} = s' | S_t = s, A_t = a)$$\n",
    "\n",
    "- **Intuitive Explanation:** The current state contains all the information needed to make optimal decisions about the future.\n",
    "\n",
    "- **Goal of an Agent in MDP**\n",
    "  - The agent’s objective is to find a policy `𝜋(𝑎∣𝑠)` that maximizes the expected cumulative reward over time. This is often formalized using:\n",
    "      - **Value functions**: Estimate how good it is to be in a state or take an action.\n",
    "      - **Policy iteration** and **value iteration**: Algorithms to compute optimal policies.\n",
    "\n",
    "- **Why the Markov Property Matters**\n",
    "    - **Computational Efficiency**: \n",
    "        - Eliminates need to track and process entire history\n",
    "        - Reduces memory requirements from exponential to linear\n",
    "        - Enables efficient dynamic programming algorithms\n",
    "\n",
    "    - **Mathematical Tractability**:\n",
    "        - Allows use of well-established optimization techniques\n",
    "        - Guarantees convergence properties for many algorithms\n",
    "        - Simplifies analysis of algorithm behavior\n",
    "\n",
    "    - **Policy Optimality**:\n",
    "        - Optimal policies can be expressed as functions of current state only: $\\pi^*(a|s)$\n",
    "        - No need to condition on history: $\\pi^*(a|s, h_t)$ where $h_t$ is history\n",
    "\n",
    "- **Violations and Solutions**\n",
    "    - **Common Violations**:\n",
    "        - **Partial Observability**: Agent cannot observe full state\n",
    "        - **Non-Markovian Dynamics**: Environment has memory or hidden variables\n",
    "        - **Insufficient State Representation**: Missing crucial information\n",
    "\n",
    "    - **Solutions**:\n",
    "        - **State Augmentation**: Include relevant history in state representation\n",
    "        - **Recurrent Policies**: Use RNNs or LSTMs to maintain internal memory\n",
    "        - **Belief States**: Maintain probability distributions over possible states\n",
    "\n",
    "- **Practical Example: Navigation Robot**\n",
    "    - **Markovian Representation**:\n",
    "        - State includes: position, orientation, velocity, sensor readings\n",
    "        - Future position depends only on current state and chosen action\n",
    "        - Past trajectory irrelevant given complete current state\n",
    "\n",
    "    - **Non-Markovian Representation**:\n",
    "        - State includes only: position\n",
    "        - Missing information: orientation, velocity, momentum\n",
    "        - Past movements become relevant for predicting future positions\n",
    "\n",
    "***"
   ]
  },
  {
   "cell_type": "markdown",
   "id": "123573a7",
   "metadata": {},
   "source": [
    "## **🔖4. Frozen Lake Environment as MDP**"
   ]
  },
  {
   "cell_type": "markdown",
   "id": "e7ed30f0",
   "metadata": {},
   "source": [
    "- Imagine a 4x4 grid that represents a frozen lake. There are three types of tiles:\n",
    "    - **`S`** : The starting point (safe).\n",
    "    - **`F`** : Frozen surface (safe, you can walk on it).\n",
    "    - **`H`** : A hole in the ice (dangerous, you fall in and the episode ends).\n",
    "    - **`G`** : The goal (where you receive a reward).\n",
    "\n",
    "- A simple layout might look like this:\n",
    "    ```\n",
    "    S  F  F  F\n",
    "    F  H  F  H\n",
    "    F  F  F  H\n",
    "    H  F  F  G\n",
    "    ```\n",
    "\n",
    "> You are an agent (a person trying to cross the lake). Your goal is to find a path from `S` to `G` without falling into a hole `H`.\n",
    "\n",
    "\n",
    "- **Mapping the Problem to a Markov Decision Process (MDP)**\n",
    "    - An MDP is defined by a 5-tuple `(S, A, P, R, γ)`:\n",
    "        - **S**: Set of states\n",
    "        - **A**: Set of actions\n",
    "        - **P**: Transition probabilities `P(s' | s, a)`\n",
    "        - **R**: Reward function `R(s, a, s')`\n",
    "        - **γ**: Discount factor (between 0 and 1)\n",
    "\n",
    "    - Let's break down the Frozen Lake problem into these components.\n",
    "        - 🟢`States (S)`\n",
    "            - Each tile (cell) in the grid is a state. We can represent them by their coordinates.\n",
    "               - **S**: `{(0,0), (0,1), (0,2), (0,3), (1,0), ..., (3,3)}`\n",
    "               - The **terminal states** are the holes `H` and the goal `G`. Once you enter one, the episode is over. For example, `(1,1)` is a hole and `(3,3)` is the goal.\n",
    "\n",
    "        - 🟢`Actions (A)`\n",
    "            - The actions are the possible moves the agent can take from any state (if the move is possible).\n",
    "            -   **A**: `{UP, DOWN, LEFT, RIGHT}`\n",
    "\n",
    "        - 🟢`Transition Probabilities (P)`\n",
    "            - This is the core of the \"Markov\" property. The outcome of an action is **stochastic** (non-deterministic). This mimics the slippery nature of ice.\n",
    "                - **Intended Action**: 33.3% chance\n",
    "                - **Slipping Left**: 33.3% chance\n",
    "                - **Slipping Right**: 33.3% chance\n",
    "\n",
    "            - **Example:** From state `(0,1)` (a frozen tile), if the agent intends to go `DOWN`:\n",
    "                - With ~33% probability, it successfully moves `DOWN` to `(1,1)`.\n",
    "                - With ~33% probability, it slips and moves `LEFT` to `(0,0)`.\n",
    "                - With ~33% probability, it slips and moves `RIGHT` to `(0,2)`.\n",
    "\n",
    "            - If a move would take the agent into a wall (e.g., moving `LEFT` from `(0,0)`), the agent simply stays in its current state. The probability mass for that invalid move is added to the probability of remaining in the current state.\n",
    "\n",
    "        - 🟢`Reward Function (R)`\n",
    "            - The reward defines the goal of the agent. We give a reward only when the agent reaches a meaningful state.\n",
    "                - **Reaching the Goal (G):** `R = +1`\n",
    "                - **Falling into a Hole (H):** `R = 0` (Some versions use a small negative reward like `-1` to penalize failure)\n",
    "                - **Stepping on any other Frozen (F) tile:** `R = 0`\n",
    "\n",
    "            - The agent gets this reward *upon entering* the new state `s'`.\n",
    "                - **Example:**\n",
    "                    - `R((2,3), DOWN, (3,3)) = +1` (Moving into the goal from above)\n",
    "                    - `R((1,0), RIGHT, (1,1)) = 0` (Moving into a hole)\n",
    "                    - `R((0,0), RIGHT, (0,1)) = 0` (Moving onto a frozen tile)\n",
    "\n",
    "        - 🟢`Discount Factor (γ)`\n",
    "            - This determines how much the agent cares about `future rewards` vs. `immediate rewards`.\n",
    "            - Let's choose **γ = 0.9** for this example. This means the agent strongly prefers reaching the goal quickly but still values eventually reaching it over never reaching it at all.\n",
    "\n",
    "\n",
    "\n",
    "- **How an Episode Unrolls**\n",
    "  - Let's simulate a few steps of a possible episode:\n",
    "    - 1.  **Time t=0**: State `s₀ = (0,0)` (Start).\n",
    "    - 2.  **Action a₀**: The agent chooses `RIGHT` (intending to go to `(0,1)`).\n",
    "    - 3.  **Transition**: Due to slippiness, it actually slips and moves `DOWN` to `s₁ = (1,0)`. Reward `r₀ = 0`.\n",
    "    - 4.  **Time t=1**: State `s₁ = (1,0)`.\n",
    "    - 5.  **Action a₁**: The agent chooses `RIGHT` again (intending to go to `(1,1)` - a hole!).\n",
    "    - 6.  **Transition**: It successfully executes the action and moves into the hole at `s₂ = (1,1)`. This is a terminal state.\n",
    "    - 7.  **Reward r₁**: The agent receives `r₁ = 0` for entering a hole. The episode ends. The total return for this episode is `0`.\n",
    "\n",
    "> **A successful episode** would involve the agent navigating the slippery ice, potentially getting lucky with slips, and eventually landing on `(3,3)` to collect a reward of `+1`."
   ]
  },
  {
   "cell_type": "markdown",
   "id": "d4a4bde6",
   "metadata": {},
   "source": [
    "### The Solution to the MDP\n",
    "\n",
    "- The goal of solving an MDP is to find a **policy (π)**, which is a strategy that tells the agent what action to take in every state (`π(s) -> a`).\n",
    "- The optimal policy `π*` is the one that maximizes the expected cumulative discounted reward (the **return**). \n",
    "- In this case, it's the policy that has the highest chance of getting the agent to the goal without falling in a hole.\n",
    "- For a small grid like this, we can compute this optimal policy using algorithms like **Value Iteration** or **Policy Iteration**. \n",
    "- The result would be a map showing the best action for every tile:\n",
    "\n",
    "![frozen-lake-png](_img\\frozen-lake.png)\n",
    "\n",
    "### **Frozen Lake**\n",
    "- **Environment Description:** An agent must navigate across a frozen lake to reach a goal while avoiding holes.\n",
    "- **Components:**\n",
    "  - **States:** 16 positions (4×4 grid) numbered 0-15\n",
    "  - **Actions:** 4 possible moves (0: left, 1: down, 2: right, 3: up)\n",
    "  - **Terminal States:** Goal state (rewards +1) and hole states (episode ends) ~ 6\n",
    "  - **Transition Probabilities:** Actions don't always lead to expected outcomes due to slippery ice\n"
   ]
  },
  {
   "cell_type": "code",
   "execution_count": 1,
   "id": "0234d3c3",
   "metadata": {},
   "outputs": [
    {
     "name": "stdout",
     "output_type": "stream",
     "text": [
      "Discrete(4)\n",
      "Discrete(16)\n",
      "Number of actions: 4\n",
      "Number of states: 16\n"
     ]
    }
   ],
   "source": [
    "import gymnasium as gym\n",
    "\n",
    "# Create environment\n",
    "env = gym.make('FrozenLake-v1', is_slippery=True)\n",
    "\n",
    "# Check state and action spaces\n",
    "print(env.action_space)          \n",
    "print(env.observation_space)    \n",
    "\n",
    "print(\"Number of actions:\", env.action_space.n)      \n",
    "print(\"Number of states:\", env.observation_space.n)  "
   ]
  },
  {
   "cell_type": "markdown",
   "id": "4ff35a22",
   "metadata": {},
   "source": [
    "## **🔖5. CliffWalking Environment**"
   ]
  },
  {
   "cell_type": "markdown",
   "id": "6192c299",
   "metadata": {},
   "source": [
    "- The Cliff Walking environment involves an agent crossing a grid world from start to goal while avoiding falling off a cliff.\n",
    "- If the player moves to a cliff location it returns to the start location.\n",
    "- The player makes moves until they reach the goal, which ends the episode.\n",
    "- Your task is to explore the state and action spaces of this environment.\n",
    "\n",
    "![cliff-walking-gif](_img\\cliff_walking.gif)"
   ]
  },
  {
   "cell_type": "code",
   "execution_count": 2,
   "id": "91d23f44",
   "metadata": {},
   "outputs": [
    {
     "name": "stdout",
     "output_type": "stream",
     "text": [
      "Number of actions: 4\n",
      "Number of states: 48\n",
      "[(1.0, np.int64(23), -1, False)]\n",
      "Action: 0 | Probability: 1.0, Next State: 23, Reward: -1, Done: False\n",
      "[(1.0, np.int64(35), -1, False)]\n",
      "Action: 1 | Probability: 1.0, Next State: 35, Reward: -1, Done: False\n",
      "[(1.0, np.int64(47), -1, True)]\n",
      "Action: 2 | Probability: 1.0, Next State: 47, Reward: -1, Done: True\n",
      "[(1.0, np.int64(34), -1, False)]\n",
      "Action: 3 | Probability: 1.0, Next State: 34, Reward: -1, Done: False\n"
     ]
    }
   ],
   "source": [
    "import gymnasium as gym   \n",
    "\n",
    "\n",
    "# ==============================\n",
    "# Environment Setup\n",
    "# ==============================\n",
    "# Create the CliffWalking environment.\n",
    "# \"CliffWalking-v1\" is a classic control problem from reinforcement learning.\n",
    "# \"render_mode='rgb_array'\" means the environment won't open a window;\n",
    "# instead, it keeps the visual output as an image array (useful for debugging or rendering later).\n",
    "env = gym.make('CliffWalking-v1', render_mode='rgb_array')\n",
    "\n",
    "\n",
    "# ==============================\n",
    "# Action and State Spaces\n",
    "# ==============================\n",
    "# Number of possible actions the agent can take (Up, Right, Down, Left = 4).\n",
    "num_actions = env.action_space.n\n",
    "\n",
    "# Number of possible states in the gridworld (4 rows × 12 columns = 48).\n",
    "num_states = env.observation_space.n\n",
    "\n",
    "print(\"Number of actions:\", num_actions)\n",
    "print(\"Number of states:\", num_states)\n",
    "\n",
    "\n",
    "# ==============================\n",
    "# Exploring Transitions\n",
    "# ==============================\n",
    "# Each state has a set of transitions, depending on the chosen action.\n",
    "# Let's pick a specific state (for example, 35) and explore what happens when we try different actions.\n",
    "state = 35\n",
    "\n",
    "# Loop through all possible actions from this state\n",
    "for action in range(num_actions):\n",
    "    # The environment has an internal dictionary \"P\" that stores transitions.\n",
    "    # P[state][action] gives a list of possible outcomes when taking `action` in `state`.\n",
    "    transitions = env.unwrapped.P[state][action]\n",
    "    print(transitions)\n",
    "\n",
    "    # Each transition has the format: (probability, next_state, reward, done)\n",
    "    # -> probability: chance of this outcome (usually 1.0 for deterministic envs like CliffWalking)\n",
    "    # -> next_state: the state you land in after the action\n",
    "    # -> reward: the reward received for this action\n",
    "    # -> done: whether the episode ends after this transition\n",
    "    for transition in transitions:\n",
    "        probability, next_state, reward, done = transition\n",
    "        print(f\"Action: {action} | Probability: {probability}, Next State: {next_state}, Reward: {reward}, Done: {done}\")\n"
   ]
  },
  {
   "cell_type": "code",
   "execution_count": null,
   "id": "082ecf7b",
   "metadata": {},
   "outputs": [
    {
     "name": "stdout",
     "output_type": "stream",
     "text": [
      "\n",
      "Episode 1 — Initial state: [ 0.0273956  -0.00611216  0.03585979  0.0197368 ]\n"
     ]
    },
    {
     "data": {
      "image/png": "[encoded data removed]",
      "text/plain": [
       "<Figure size 640x480 with 1 Axes>"
      ]
     },
     "metadata": {},
     "output_type": "display_data"
    },
    {
     "data": {
      "image/png": "[encoded data removed]",
      "text/plain": [
       "<Figure size 640x480 with 1 Axes>"
      ]
     },
     "metadata": {},
     "output_type": "display_data"
    },
    {
     "data": {
      "image/png": "[encoded data removed]",
      "text/plain": [
       "<Figure size 640x480 with 1 Axes>"
      ]
     },
     "metadata": {},
     "output_type": "display_data"
    },
    {
     "data": {
      "image/png": "[encoded data removed]",
      "text/plain": [
       "<Figure size 640x480 with 1 Axes>"
      ]
     },
     "metadata": {},
     "output_type": "display_data"
    },
    {
     "data": {
      "image/png": "[encoded data removed]",
      "text/plain": [
       "<Figure size 640x480 with 1 Axes>"
      ]
     },
     "metadata": {},
     "output_type": "display_data"
    },
    {
     "data": {
      "image/png": "[encoded data removed]",
      "text/plain": [
       "<Figure size 640x480 with 1 Axes>"
      ]
     },
     "metadata": {},
     "output_type": "display_data"
    },
    {
     "data": {
      "image/png": "[encoded data removed]",
      "text/plain": [
       "<Figure size 640x480 with 1 Axes>"
      ]
     },
     "metadata": {},
     "output_type": "display_data"
    },
    {
     "data": {
      "image/png": "[encoded data removed]",
      "text/plain": [
       "<Figure size 640x480 with 1 Axes>"
      ]
     },
     "metadata": {},
     "output_type": "display_data"
    },
    {
     "data": {
      "image/png": "[encoded data removed]",
      "text/plain": [
       "<Figure size 640x480 with 1 Axes>"
      ]
     },
     "metadata": {},
     "output_type": "display_data"
    },
    {
     "data": {
      "image/png": "[encoded data removed]",
      "text/plain": [
       "<Figure size 640x480 with 1 Axes>"
      ]
     },
     "metadata": {},
     "output_type": "display_data"
    },
    {
     "name": "stdout",
     "output_type": "stream",
     "text": [
      "Episode 1 finished. Total reward: 10.0\n"
     ]
    },
    {
     "data": {
      "text/plain": [
       "<Figure size 640x480 with 0 Axes>"
      ]
     },
     "metadata": {},
     "output_type": "display_data"
    }
   ],
   "source": [
    "import gymnasium as gym\n",
    "import matplotlib.pyplot as plt\n",
    "\n",
    "\n",
    "def render_frame(env):\n",
    "    \"\"\"Render a single frame of the environment using matplotlib.\"\"\"\n",
    "    frame = env.render()    # Get the current frame\n",
    "    plt.imshow(frame)       # Display the frame\n",
    "    plt.axis(\"off\")         # Turn off axis labels\n",
    "    plt.show(block=False)   # Show the frame without blocking\n",
    "    plt.pause(0.001)        # Small pause for smoother animation\n",
    "    plt.clf()               # Clear figure for the next frame\n",
    "\n",
    "\n",
    "def run_cartpole(seed: int = 42, episodes: int = 1):\n",
    "    \"\"\"Run the CartPole environment with a simple policy (always move right).\"\"\"\n",
    "    env = gym.make(\"CartPole-v1\", render_mode=\"rgb_array\")\n",
    "\n",
    "    for ep in range(episodes):\n",
    "        state, info = env.reset(seed=seed if ep == 0 else None)\n",
    "        print(f\"\\nEpisode {ep + 1} — Initial state: {state}\")\n",
    "\n",
    "        terminated, truncated = False, False\n",
    "        total_reward = 0\n",
    "\n",
    "        while not (terminated or truncated):\n",
    "            action = 1  # Simple policy: always move right\n",
    "            state, reward, terminated, truncated, info = env.step(action)\n",
    "            total_reward += reward\n",
    "\n",
    "            render_frame(env)\n",
    "\n",
    "        print(f\"Episode {ep + 1} finished. Total reward: {total_reward}\")\n",
    "\n",
    "    env.close()\n",
    "\n",
    "\n",
    "if __name__ == \"__main__\":\n",
    "    run_cartpole(episodes=1)"
   ]
  }
 ],
 "metadata": {
  "kernelspec": {
   "display_name": "RL",
   "language": "python",
   "name": "python3"
  },
  "language_info": {
   "codemirror_mode": {
    "name": "ipython",
    "version": 3
   },
   "file_extension": ".py",
   "mimetype": "text/x-python",
   "name": "python",
   "nbconvert_exporter": "python",
   "pygments_lexer": "ipython3",
   "version": "3.13.5"
  }
 },
 "nbformat": 4,
 "nbformat_minor": 5
}
